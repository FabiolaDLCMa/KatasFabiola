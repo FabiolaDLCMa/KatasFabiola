{
 "cells": [
  {
   "cell_type": "markdown",
   "metadata": {},
   "source": [
    "# Ejercicio 1: Utilizar operadores matematicos"
   ]
  },
  {
   "cell_type": "code",
   "execution_count": null,
   "metadata": {},
   "outputs": [],
   "source": [
    "Tierra = 149597870\n",
    "Jupiter = 778547200"
   ]
  },
  {
   "cell_type": "code",
   "execution_count": null,
   "metadata": {},
   "outputs": [],
   "source": [
    "Distancia = Jupiter - Tierra\n",
    "print(\"La distancia entre ambos planetas es de: \" + str(Distancia) + \" Kms.\")"
   ]
  },
  {
   "cell_type": "code",
   "execution_count": null,
   "metadata": {},
   "outputs": [],
   "source": [
    "Distancia = (Jupiter - Tierra)*0.621\n",
    "print(\"La distancia entre ambos planetas es de: \" + str(Distancia) + \" millas.\")"
   ]
  },
  {
   "cell_type": "markdown",
   "metadata": {},
   "source": [
    "# Ejercicio 2: Convierte cadenas en números y usa valores absolutos"
   ]
  },
  {
   "cell_type": "code",
   "execution_count": null,
   "metadata": {},
   "outputs": [],
   "source": [
    "planeta1 = input(\"¿Cual es la distancia del Sol al primer planeta?\")\n",
    "planeta2 = input(\"¿Cual es la distancia del Sol al segundo planeta?\")"
   ]
  },
  {
   "cell_type": "code",
   "execution_count": null,
   "metadata": {},
   "outputs": [],
   "source": [
    "print(planeta1)\n",
    "print(planeta2)\n",
    "print(type(planeta1))\n",
    "print(type(planeta2))"
   ]
  },
  {
   "cell_type": "code",
   "execution_count": null,
   "metadata": {},
   "outputs": [],
   "source": [
    "planeta1=int(planeta1)\n",
    "planeta2=int(planeta2)"
   ]
  },
  {
   "cell_type": "code",
   "execution_count": null,
   "metadata": {},
   "outputs": [],
   "source": [
    "print((planeta1))\n",
    "print(type(planeta1))"
   ]
  },
  {
   "cell_type": "code",
   "execution_count": null,
   "metadata": {},
   "outputs": [],
   "source": [
    "print(int(planeta2))\n",
    "print(type(int(planeta2)))"
   ]
  },
  {
   "cell_type": "code",
   "execution_count": null,
   "metadata": {},
   "outputs": [],
   "source": [
    "Distancia2 = planeta1 - planeta2\n",
    "Distancia2 = abs(Distancia2)\n",
    "print(Distancia2)\n",
    "print(\"La distancia entre ambos planetas es de: \" + str(Distancia2) + \" Kms.\")"
   ]
  },
  {
   "cell_type": "code",
   "execution_count": null,
   "metadata": {},
   "outputs": [],
   "source": [
    "Distancia2 = planeta1 - planeta2\n",
    "Distancia2 = abs(Distancia2)*0.621\n",
    "print(Distancia2)\n",
    "print(\"La distancia entre ambos planetas es de: \" + str(Distancia2) + \" millas.\")"
   ]
  }
 ],
 "metadata": {
  "interpreter": {
   "hash": "464ada86bedca4d8bf74f8d69c493f5db054cd5080872a00b14f448ee3247094"
  },
  "kernelspec": {
   "display_name": "Python 3.10.2 64-bit (windows store)",
   "language": "python",
   "name": "python3"
  },
  "language_info": {
   "name": "python",
   "version": "3.10.2"
  },
  "orig_nbformat": 4
 },
 "nbformat": 4,
 "nbformat_minor": 2
}
